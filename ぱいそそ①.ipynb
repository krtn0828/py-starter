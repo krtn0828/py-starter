{
  "nbformat": 4,
  "nbformat_minor": 0,
  "metadata": {
    "colab": {
      "name": "ぱいそそ①.ipynb",
      "provenance": [],
      "collapsed_sections": [],
      "include_colab_link": true
    },
    "kernelspec": {
      "name": "python3",
      "display_name": "Python 3"
    },
    "language_info": {
      "name": "python"
    }
  },
  "cells": [
    {
      "cell_type": "markdown",
      "metadata": {
        "id": "view-in-github",
        "colab_type": "text"
      },
      "source": [
        "<a href=\"https://colab.research.google.com/github/krtn0828/py-starter/blob/master/%E3%81%B1%E3%81%84%E3%81%9D%E3%81%9D%E2%91%A0.ipynb\" target=\"_parent\"><img src=\"https://colab.research.google.com/assets/colab-badge.svg\" alt=\"Open In Colab\"/></a>"
      ]
    },
    {
      "cell_type": "markdown",
      "source": [
        "#Pythonとは"
      ],
      "metadata": {
        "id": "v8axhPOWQXi_"
      }
    },
    {
      "cell_type": "markdown",
      "source": [
        "***機械学習やデータ分析***といったワードとともに国内でも人気が近年急上昇している言語\n",
        "\n",
        "誕生は１９９１年と、先に普及した***JavaやJavaScriptより先***。\n",
        "\n",
        "***読みやすくて気軽に書け、日常的なタスクを自動化する***というコンセプトで作られた\n",
        "\n",
        "</br>\n",
        "\n",
        "---\n",
        "\n",
        "\n",
        "（ Pythonの得意分野の例 ）\n",
        "\n",
        "**・テキストファイルやExcelのファイルを加工する**\n",
        "\n",
        "**・インターネットからデータを集める**\n",
        "\n",
        "**・画像サイズを一括で変更する**"
      ],
      "metadata": {
        "id": "PMNGiv53QeXA"
      }
    },
    {
      "cell_type": "markdown",
      "source": [
        "Pythonは***読みやすい***。***圧倒的に読みやすい***。\n",
        "\n",
        "例：変数ageが成人か未成年かを判定して表示するプログラム\n",
        "\n",
        "```python\n",
        "#Pythonの場合\n",
        "age = 何かの数値\n",
        "if age < 20:\n",
        "  print('未成年')\n",
        "else:\n",
        "  print('成人')\n",
        "```\n",
        "\n",
        "```javascript\n",
        "let age = 何かの数値\n",
        "if (a < 20){\n",
        "  console.log('未成年');\n",
        "} else {\n",
        "  console.log('成人');\n",
        "}\n",
        "```\n",
        "Pythonでは***カッコの数が少なく***、***行頭の字下げが構造(ブロック)を表す***\n",
        "\n",
        "JavaScriptでは、***行頭の字下げは見やすくするためのもの***で、***カッコなどの記号が構造を表す***。\n",
        "\n"
      ],
      "metadata": {
        "id": "fI7xiRCNRlWM"
      }
    },
    {
      "cell_type": "markdown",
      "source": [
        "#テキストを表示する"
      ],
      "metadata": {
        "id": "cWslv-gBPmkE"
      }
    },
    {
      "cell_type": "markdown",
      "source": [
        "関数は簡単に言うとコンピュータに対する「命令」\n",
        "\n",
        "print関数は表示しろという命令で、「何を」という目的語部分をprintのあとのカッコ内に書く"
      ],
      "metadata": {
        "id": "GLQE542mP-Ss"
      }
    },
    {
      "cell_type": "code",
      "execution_count": null,
      "metadata": {
        "colab": {
          "base_uri": "https://localhost:8080/"
        },
        "id": "myCuLMKwMKgd",
        "outputId": "4a77f7f5-44af-4f93-c262-2ab57504d8c6"
      },
      "outputs": [
        {
          "output_type": "stream",
          "name": "stdout",
          "text": [
            "ハロー！\n"
          ]
        }
      ],
      "source": [
        "#print関数を使った文字の表示\n",
        "\n",
        "print('ハロー！') #文字列ハローを表示しろ"
      ]
    },
    {
      "cell_type": "markdown",
      "source": [
        "#演算子を使って計算する"
      ],
      "metadata": {
        "id": "K5aJJekePp4r"
      }
    },
    {
      "cell_type": "markdown",
      "source": [
        "プログラムで計算する際も、数学と同じような「式」を書く。\n",
        "\n",
        "算数における「＋」「−」「×」「÷」に当たるものがPythonにおける***演算子***\n",
        "\n",
        "演算子も関数と同様に命令なので、例えば「＋」は「***足した結果を出せ***」と解釈する"
      ],
      "metadata": {
        "id": "4ByLMFPnTNhu"
      }
    },
    {
      "cell_type": "code",
      "source": [
        "#足し算と引き算\n",
        "\n",
        "print(10 + 5) #数値１０に数値５を足した結果を表示しろ\n",
        "\n",
        "print(10 - 5) #数値１０から数値５を引いた結果を表示しろ\n"
      ],
      "metadata": {
        "colab": {
          "base_uri": "https://localhost:8080/"
        },
        "id": "jp7n63FSM6p4",
        "outputId": "362da428-5b7c-4a62-8c2d-dcb464ce3e7c"
      },
      "execution_count": null,
      "outputs": [
        {
          "output_type": "stream",
          "name": "stdout",
          "text": [
            "15\n",
            "5\n"
          ]
        }
      ]
    },
    {
      "cell_type": "markdown",
      "source": [
        "```python\n",
        "print(10 + 5)\n",
        "\n",
        "print(10 - 5)\n",
        "```\n",
        "これを読み下す場合、カッコ内の式を先に読み下す。\n",
        "\n",
        "print関数の命令の中に別の命令(演算子)が書かれている。\n",
        "\n",
        "すなわち命令の中に別の命令を書く、***命令の入れ子のような書き方***がなされている。\n"
      ],
      "metadata": {
        "id": "0LuvNYXkT46U"
      }
    },
    {
      "cell_type": "code",
      "source": [
        "#掛け算と割り算\n",
        "\n",
        "print(10 * 5) #数値１０に数値５をかけた結果を表示しろ\n",
        "\n",
        "print(10 /5) #数値１０を数値５で割った結果を表示しろ\n"
      ],
      "metadata": {
        "colab": {
          "base_uri": "https://localhost:8080/"
        },
        "id": "Njw4huVuNl1f",
        "outputId": "320333ea-84de-4034-a2bf-bb063775e6c1"
      },
      "execution_count": null,
      "outputs": [
        {
          "output_type": "stream",
          "name": "stdout",
          "text": [
            "50\n",
            "2.0\n"
          ]
        }
      ]
    },
    {
      "cell_type": "code",
      "source": [
        "#整数と実数(浮動小数点数)\n",
        "\n",
        "print(10 + 0.5) #数値１０に数値０．５を足した結果を表示しろ\n"
      ],
      "metadata": {
        "colab": {
          "base_uri": "https://localhost:8080/"
        },
        "id": "9M52Zp1AN8G2",
        "outputId": "7234cbc6-c20e-4f0f-c076-aac23d1a77e4"
      },
      "execution_count": null,
      "outputs": [
        {
          "output_type": "stream",
          "name": "stdout",
          "text": [
            "10.5\n"
          ]
        }
      ]
    },
    {
      "cell_type": "code",
      "source": [
        "#切り捨て割り算とその余り\n",
        "\n",
        "print(5 / 2) #数値５を数値２で割った結果を表示しろ\n",
        "\n",
        "print(5 // 2) #数値５を数値2で割って切り捨てた結果を表示しろ\n",
        "\n",
        "print(5 % 2) #数値5を数値2で割った余りを表示しろ\n"
      ],
      "metadata": {
        "colab": {
          "base_uri": "https://localhost:8080/"
        },
        "id": "DQxzx3OJOEmm",
        "outputId": "f7917ffd-24f2-4992-a199-a15b8dab3f59"
      },
      "execution_count": null,
      "outputs": [
        {
          "output_type": "stream",
          "name": "stdout",
          "text": [
            "2.5\n",
            "2\n",
            "1\n"
          ]
        }
      ]
    },
    {
      "cell_type": "code",
      "source": [
        "#べき乗計算\n",
        "\n",
        "print(3 ** 2) #数値３を２乗した結果を表示しろ\n",
        "\n",
        "print(9 ** 0.5) #数値９を０．５乗(平方)した結果を表示しろ\n"
      ],
      "metadata": {
        "colab": {
          "base_uri": "https://localhost:8080/"
        },
        "id": "KO8DmImWPFQu",
        "outputId": "11d20245-e92b-4b8a-9aa7-16d1f1232d7a"
      },
      "execution_count": null,
      "outputs": [
        {
          "output_type": "stream",
          "name": "stdout",
          "text": [
            "9\n",
            "3.0\n"
          ]
        }
      ]
    },
    {
      "cell_type": "markdown",
      "source": [
        "０．５乗は平方根を表す"
      ],
      "metadata": {
        "id": "wBuG_i4gUr1h"
      }
    },
    {
      "cell_type": "markdown",
      "source": [
        "| 演算子 | 読み方                     | 例     | \n",
        "| ------ | -------------------------- | ------ | \n",
        "| +      | 足した結果を出せ           | 2 + 3  | \n",
        "|        | 引いた結果を出せ           | 7 - 4  | \n",
        "| *      | 掛けた結果を出せ           | 6 * 2  | \n",
        "| /      | 割った結果を出せ           | 10 / 5 | \n",
        "| //     | 割って切り捨てた結果を出せ | 18 // 4 | \n",
        "| %      | 割った余りを出せ           | 23 % 9 | \n",
        "| **     | べき乗の結果を出せ         | 6 ** 2 | "
      ],
      "metadata": {
        "id": "nicGGzTmUwJY"
      }
    },
    {
      "cell_type": "markdown",
      "source": [
        "#長い数式を入力する"
      ],
      "metadata": {
        "id": "LcR86dy2P00U"
      }
    },
    {
      "cell_type": "markdown",
      "source": [
        "複数の演算子が式内に含まれる場合、\n",
        "\n",
        "***優先順位が同じ時は、左から順番に計算される***。\n",
        "\n",
        "***順位が異なる場合は、順位の高いものから計算される***。\n",
        "\n",
        "![順位](https://it-atta.com/wp-content/uploads/2020/09/1.jpg)"
      ],
      "metadata": {
        "id": "qkU2q_GEV27F"
      }
    },
    {
      "cell_type": "code",
      "source": [
        "#優先順位が同じ演算子の式の計算\n",
        "\n",
        "print(2 + 10 + 5) #数値２に数値１０を足した結果に数値５を足した結果を表示しろ\n"
      ],
      "metadata": {
        "colab": {
          "base_uri": "https://localhost:8080/"
        },
        "id": "cD-9uStpPau1",
        "outputId": "19b3f651-7b5f-4cc6-94b5-42310f7456dd"
      },
      "execution_count": null,
      "outputs": [
        {
          "output_type": "stream",
          "name": "stdout",
          "text": [
            "17\n"
          ]
        }
      ]
    },
    {
      "cell_type": "code",
      "source": [
        "#優先順位が違う演算子の式の計算\n",
        "\n",
        "print(2 + 10 * 5) #数値１０に数値５を掛けた結果に数値２を足した結果を表示しろ\n"
      ],
      "metadata": {
        "colab": {
          "base_uri": "https://localhost:8080/"
        },
        "id": "DmwNzOoFWyjz",
        "outputId": "513b07de-9100-4d35-f1c9-55668b993681"
      },
      "execution_count": null,
      "outputs": [
        {
          "output_type": "stream",
          "name": "stdout",
          "text": [
            "52\n"
          ]
        }
      ]
    },
    {
      "cell_type": "code",
      "source": [
        "#カッコを使って優先順位を変える\n",
        "\n",
        "print((2 + 10) * 5) #数値２に数値１０を足した結果に数値５を掛けた結果を表示しろ\n"
      ],
      "metadata": {
        "colab": {
          "base_uri": "https://localhost:8080/"
        },
        "id": "umgLYZ62XXN2",
        "outputId": "cde3e03a-fea2-4e68-e123-82a183902641"
      },
      "execution_count": null,
      "outputs": [
        {
          "output_type": "stream",
          "name": "stdout",
          "text": [
            "60\n"
          ]
        }
      ]
    },
    {
      "cell_type": "code",
      "source": [
        "#カッコの中にさらにカッコが入れ子になった式\n",
        "\n",
        "print(5 / (4 * (1 - 0.2))) #数値１から数値０．２を引いた結果を数値４に掛け、その結果で数値５を割った結果を表示しろ\n"
      ],
      "metadata": {
        "id": "RDl7ialLXm4g"
      },
      "execution_count": null,
      "outputs": []
    },
    {
      "cell_type": "markdown",
      "source": [
        "１−０．２が計算されて０．８という結果が出る\n",
        "\n",
        "↓\n",
        "\n",
        "４*０．８が計算されて３．２という結果が出る\n",
        "\n",
        "↓\n",
        "\n",
        "５/３．２が計算されて１．５６２５という結果が出る\n",
        "\n",
        "↓\n",
        "\n",
        "最終結果が表示される"
      ],
      "metadata": {
        "id": "7cPPbhKVYCVm"
      }
    },
    {
      "cell_type": "code",
      "source": [
        "#負の数を表す「-」\n",
        "\n",
        "print(2 + 10 * -5) #数値１０に数値-５を掛けた結果に数値２を足した結果を表示しろ"
      ],
      "metadata": {
        "id": "cHuOwZwjYehw"
      },
      "execution_count": null,
      "outputs": []
    },
    {
      "cell_type": "markdown",
      "source": [
        "左側に数値以外がある場合、「-」は演算子ではなく、「負の数」として処理される"
      ],
      "metadata": {
        "id": "eDCne9vDYtrI"
      }
    },
    {
      "cell_type": "markdown",
      "source": [
        "#変数を使って計算する"
      ],
      "metadata": {
        "id": "cJ8t93VRZB-g"
      }
    },
    {
      "cell_type": "markdown",
      "source": [
        "数値や文字列などのデータ類をまとめて***「値」***と呼ぶ。\n",
        "\n",
        "同じ値を複数箇所で何度も使う場合、\n",
        "プログラムに値を直接入力していると、値を修正しなければいけなくなった時に手間がかかる。\n",
        "\n",
        "よって、***事前に繰り返し使うことが分かっている値は「変数」に入れておく***。\n",
        "\n",
        "変数とは何らかの値を記憶できる箱だと考えるとわかりやすい。\n",
        "\n",
        "```python\n",
        "text = 'ハロー！'\n",
        "#文字列「ハロー！」を変数textに入れろ\n",
        "```\n",
        "変数 = 値 の形式を***「代入文」***という。\n",
        "\n",
        "Pythonにおける「＝」は、数学とは違い***「入れろ」***または***「記憶しろ」***という意味で使われる。\n"
      ],
      "metadata": {
        "id": "IFGbwC7eZEA3"
      }
    },
    {
      "cell_type": "code",
      "source": [
        "#変数を作成して値を代入する\n",
        "\n",
        "text = 'ハロー！' #文字列「ハロー！」を変数textに入れろ\n",
        "\n",
        "print(text) #変数textを表示しろ\n"
      ],
      "metadata": {
        "colab": {
          "base_uri": "https://localhost:8080/"
        },
        "id": "Wu8eUCKnaV8p",
        "outputId": "ff016c30-d5ca-4f20-d2d3-ef4f7aa65ae7"
      },
      "execution_count": null,
      "outputs": [
        {
          "output_type": "stream",
          "name": "stdout",
          "text": [
            "ハロー！\n"
          ]
        }
      ]
    },
    {
      "cell_type": "markdown",
      "source": [
        "代入文では、\n",
        "\n",
        "***その名前の変数がない場合、新たに変数を作成して記憶***し、\n",
        "\n",
        "***すでに同名の変数があればそこに値が上書き***される。\n",
        "\n",
        "また、**値を入れた変数は値の代わりに使用できる**。"
      ],
      "metadata": {
        "id": "m-kLlrgLar5Q"
      }
    },
    {
      "cell_type": "code",
      "source": [
        "#変数を使うメリットの例ーー商品価格から割引価格を出すプログラム\n",
        "\n",
        "price = 100 #数値１００を変数priceに入れろ\n",
        "\n",
        "discount = 0.3 #数値０．３を変数discountに入れろ\n",
        "\n",
        "discount_price = price * (1 - discount) #数値１から変数discountを引いた結果を変数priceに掛けて、変数discount_priceに入れろ\n",
        "\n",
        "print(discount_price) #変数discount_priceを表示しろ\n"
      ],
      "metadata": {
        "colab": {
          "base_uri": "https://localhost:8080/"
        },
        "id": "A3KQYnBOaqVq",
        "outputId": "38d4f8aa-8f1a-4cf1-dc40-bc63617245a2"
      },
      "execution_count": null,
      "outputs": [
        {
          "output_type": "stream",
          "name": "stdout",
          "text": [
            "70.0\n"
          ]
        }
      ]
    },
    {
      "cell_type": "code",
      "source": [
        "#変数を使うメリットの例ーーさっきのコードから値を変更すると…？\n",
        "\n",
        "price = 100 #数値１００を変数priceに入れろ\n",
        "\n",
        "discount = 0.3 #数値０．３を変数discountに入れろ\n",
        "\n",
        "discount_price = price * (1 - discount) #数値１から変数discountを引いた結果を変数priceに掛けて、変数discount_priceに入れろ\n",
        "\n",
        "print(discount_price) #変数discount_priceを表示しろ\n"
      ],
      "metadata": {
        "colab": {
          "base_uri": "https://localhost:8080/"
        },
        "outputId": "38d4f8aa-8f1a-4cf1-dc40-bc63617245a2",
        "id": "ad3PMRIucJ6s"
      },
      "execution_count": null,
      "outputs": [
        {
          "output_type": "stream",
          "name": "stdout",
          "text": [
            "70.0\n"
          ]
        }
      ]
    },
    {
      "cell_type": "markdown",
      "source": [
        "このプログラムの場合、変数priceの値を変えると、その値を参照しているすべての部分の結果が変わる。\n",
        "\n",
        "このように***変数を使えば、プログラムをほとんど書き換えずに違う結果を出せる***というメリットがある。"
      ],
      "metadata": {
        "id": "Tm0OKko8cedh"
      }
    },
    {
      "cell_type": "markdown",
      "source": [
        "#変数の命名ルール"
      ],
      "metadata": {
        "id": "oZJ9zCefc3Rz"
      }
    },
    {
      "cell_type": "markdown",
      "source": [
        "使用してよいのは、\n",
        "\n",
        "**・アルファベットのA〜Z、a〜z**\n",
        "\n",
        "**・「 _ 」(アンダースコア)**\n",
        "\n",
        "**・数字の0〜9**\n",
        "\n",
        "のみ。数字のみでの使用は不可。\n",
        "\n",
        "また、Pythonで別の目的で使用することが決まっている***「予約語」の使用は禁止***。\n",
        "\n",
        "（予約語の例）\n",
        "False　await　else　import　pass　None　break　except　in　raise"
      ],
      "metadata": {
        "id": "RrooKRrDc8Rb"
      }
    },
    {
      "cell_type": "markdown",
      "source": [
        "変数につける名前は、コードの可読性を高めるために、「a」「b」「c」といったアルファベット一文字の名前ではなく、\n",
        "\n",
        "***「price」や「my_name」などといった見当がつきやすい語を使用する***ことが推奨される。"
      ],
      "metadata": {
        "id": "AaJCvrSEeUAY"
      }
    },
    {
      "cell_type": "markdown",
      "source": [
        "####**スペースの入れどころ**\n",
        "\n",
        "スペースを入れても動くコードと動かないコードの違いについて考える。\n",
        "\n",
        "まず1つ目のコード\n",
        "```python\n",
        "value=210\n",
        "answer=value+124\n",
        "print(answer)\n",
        "```\n",
        "↓出力結果\n",
        "```\n",
        "334\n",
        "```\n",
        "続いて2つ目\n",
        "```python\n",
        "ifanswer>10:\n",
        "```\n",
        "↓出力結果\n",
        "```yaml\n",
        "  File \"<ipython-input-21-0295292af193>\", line 1\n",
        "    ifanswer>10:\n",
        "                ^\n",
        "SyntaxError: invalid syntax\n",
        "```\n",
        "\n",
        "Pythonでは「=（デリミタ）」、「＋（演算子）」、数値などが存在するとき、変数の名前として許されないところが自動で区切られる。\n",
        "\n",
        "1つ目のコードでは、名前ではないところが区切りだと認識されて何ら問題なく動く。\n",
        "\n",
        "2つ目のコードでは、名前ではないところが区切られても、ifanswerという変数だと認識されるため、動作に問題がある。\n"
      ],
      "metadata": {
        "id": "hE3zEYm0fLr0"
      }
    },
    {
      "cell_type": "markdown",
      "source": [
        "#データの入力を受け付ける"
      ],
      "metadata": {
        "id": "qKiPeqJLhY_d"
      }
    },
    {
      "cell_type": "markdown",
      "source": [
        "print関数が出力を求める命令であるのに対し、***input関数は入力を求める関数***。\n",
        "\n",
        "実行するとユーザーからデータの入力を求める。カッコの中にはユーザーに入力を促すメッセージを表示する。\n",
        "\n",
        "input関数は、print関数とは違い、ユーザーから受け付けた文字列を結果として返してくる。\n",
        "\n",
        "このような値を***「戻り値」***という。"
      ],
      "metadata": {
        "id": "91JFMoJ9hcZd"
      }
    },
    {
      "cell_type": "code",
      "source": [
        "#入力した内容を表示する\n",
        "\n",
        "text = input('入力せよ：　') #文字列「入力せよ：　」を表示してユーザーに入力させ、結果を変数textに入れろ\n",
        "\n",
        "print(text) #変数textを表示しろ\n"
      ],
      "metadata": {
        "colab": {
          "base_uri": "https://localhost:8080/"
        },
        "id": "RkmvyTinh5rP",
        "outputId": "e6216fac-596a-49ed-a859-bc997a814e2d"
      },
      "execution_count": null,
      "outputs": [
        {
          "output_type": "stream",
          "name": "stdout",
          "text": [
            "入力せよ：　文字を打ってみる\n",
            "文字を打ってみる\n"
          ]
        }
      ]
    },
    {
      "cell_type": "code",
      "source": [
        "#入力結果を少し加工して表示する。\n",
        "\n",
        "text = input('入力せよ：　') #文字列「入力せよ：　」を表示してユーザーに入力させ、結果を変数textに入れろ\n",
        "\n",
        "print('あなたが入力したのは' + text) #文字列「あなたが入力したのは」と変数textを連結した結果を表示しろ\n"
      ],
      "metadata": {
        "colab": {
          "base_uri": "https://localhost:8080/"
        },
        "id": "7HrAhCH6i458",
        "outputId": "8213bd6b-c7d9-4ba1-fa97-815065d2ec64"
      },
      "execution_count": null,
      "outputs": [
        {
          "output_type": "stream",
          "name": "stdout",
          "text": [
            "入力せよ：　陳さん\n",
            "あなたが入力したのは陳さん\n"
          ]
        }
      ]
    },
    {
      "cell_type": "markdown",
      "source": [
        "このように演算子「＋」は、***左右に文字列がある場合、両者を連結させる***役割を持つ。"
      ],
      "metadata": {
        "id": "rgN94LbOjila"
      }
    },
    {
      "cell_type": "markdown",
      "source": [
        "#数値と文字列を変換する"
      ],
      "metadata": {
        "id": "wHODonYBj1eQ"
      }
    },
    {
      "cell_type": "markdown",
      "source": [
        "値には***「型（Type）」***が存在し、***文字列は「str型」***、数値は***整数なら「int型」***、***浮動小数点数なら「float型」***と呼ぶ。\n",
        "\n",
        "***input関数の戻り値は、内容が数字であっても常にstr型***である。\n",
        "\n",
        "***数値と文字列は混ぜて計算できない***ので、***inputの戻り値をそのまま数値と計算しあわせてもエラーが発生する***。"
      ],
      "metadata": {
        "id": "6P9hKqFaj4Rw"
      }
    },
    {
      "cell_type": "code",
      "source": [
        "#文字列型のデータを数値型のデータに変換する\n",
        "\n",
        "text = input('数字を入力せよ：　') #文字列「数字を入力せよ：　」を表示してユーザーに入力させ、結果を変数textに入れろ\n",
        "\n",
        "print(100 - int(text)) #数値１００から変数textを整数化したものを引いた結果を表示しろ\n"
      ],
      "metadata": {
        "colab": {
          "base_uri": "https://localhost:8080/"
        },
        "id": "AOvsKoZmk9MU",
        "outputId": "a308505c-5dca-4c84-cec1-8aec99f26d23"
      },
      "execution_count": null,
      "outputs": [
        {
          "output_type": "stream",
          "name": "stdout",
          "text": [
            "数字を入力せよ：　81\n",
            "19\n"
          ]
        }
      ]
    },
    {
      "cell_type": "markdown",
      "source": [
        "***int関数は文字列を受け取ると、整数に変換する。***"
      ],
      "metadata": {
        "id": "mJY14xHCl4wZ"
      }
    },
    {
      "cell_type": "markdown",
      "source": [
        "#関数とメソッドの読み方"
      ],
      "metadata": {
        "id": "nExQqe1wmAFQ"
      }
    },
    {
      "cell_type": "markdown",
      "source": [
        "カッコ内の文字列、式などの「目的語」の部分を***「引数（ひきすう）」***という。\n",
        "\n",
        "関数名(引数)と書くと、関数は割り当てられた仕事をする。このように仕事をさせることを***「呼び出す」***という。\n",
        "\n",
        "関数が返す値を***「戻り値」***という。"
      ],
      "metadata": {
        "id": "l3qsZZzpmCh4"
      }
    },
    {
      "cell_type": "code",
      "source": [
        "#複数の引数を渡す\n",
        "\n",
        "print('ハロー！', 10, 3.5) #文字列「ハロー！」と数値10と数値３．５を表示しろ\n"
      ],
      "metadata": {
        "colab": {
          "base_uri": "https://localhost:8080/"
        },
        "id": "HLYJpK4_mqMH",
        "outputId": "14904125-1770-48c6-f111-5088ae5a690a"
      },
      "execution_count": null,
      "outputs": [
        {
          "output_type": "stream",
          "name": "stdout",
          "text": [
            "ハロー！ 10 3.5\n"
          ]
        }
      ]
    },
    {
      "cell_type": "code",
      "source": [
        "#キーワード引数を使う\n",
        "\n",
        "#引数名＝値の形で指定する書き方を「キーワード変数」という\n",
        "#「sep」は、区切り文字を指定するためのキーワード変数\n",
        "\n",
        "print('ハロー！', 10, 3.5, sep=':') #文字列１０と数値３．５を文字列「：」で区切って表示しろ\n"
      ],
      "metadata": {
        "colab": {
          "base_uri": "https://localhost:8080/"
        },
        "id": "S8H4lNLzpiwL",
        "outputId": "e1d6ea48-5488-4591-a5fe-7abecfb75ed6"
      },
      "execution_count": null,
      "outputs": [
        {
          "output_type": "stream",
          "name": "stdout",
          "text": [
            "ハロー！:10:3.5\n"
          ]
        }
      ]
    },
    {
      "cell_type": "markdown",
      "source": [
        "Pythonの命令の一つに***「メソッド」***がある。\n",
        "\n",
        "***「値.メソッド名()」***の形で利用される。"
      ],
      "metadata": {
        "id": "oEXFWHzGqYia"
      }
    },
    {
      "cell_type": "code",
      "source": [
        "#メソッドの一例\n",
        "\n",
        "text = 'Hello'.replace('H', 'C') #文字列Helloの文字列「H」を文字列「C」に置換したものを変数textに入れろ\n",
        "\n",
        "print(text) #変数textを表示しろ\n"
      ],
      "metadata": {
        "colab": {
          "base_uri": "https://localhost:8080/"
        },
        "id": "TolP6ZS-qtz5",
        "outputId": "e1082047-024c-444d-e45d-44a147edfc23"
      },
      "execution_count": null,
      "outputs": [
        {
          "output_type": "stream",
          "name": "stdout",
          "text": [
            "Cello\n"
          ]
        }
      ]
    },
    {
      "cell_type": "markdown",
      "source": [
        "ぱいそそ①終わり！おつかれ！\n",
        "\n",
        "[②](https://colab.research.google.com/github/krtn0828/py-starter/blob/master/%E3%81%B1%E3%81%84%E3%81%9D%E3%81%9D%E2%91%A1.ipynb)へ進もうね＾＾"
      ],
      "metadata": {
        "id": "3MF9ScCmuMph"
      }
    }
  ]
}